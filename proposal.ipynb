{
 "metadata": {
  "language_info": {
   "codemirror_mode": {
    "name": "ipython",
    "version": 3
   },
   "file_extension": ".py",
   "mimetype": "text/x-python",
   "name": "python",
   "nbconvert_exporter": "python",
   "pygments_lexer": "ipython3",
   "version": 3
  },
  "orig_nbformat": 2
 },
 "nbformat": 4,
 "nbformat_minor": 2,
 "cells": [
  {
   "source": [
    "# CPSC 322 Final Project Proposal \n",
    "## Name: NBA Salary Ranking Calculator\n",
    "### By Adrian Rabadam and Michael Finch\n"
   ],
   "cell_type": "markdown",
   "metadata": {}
  },
  {
   "source": [
    "# Dataset: "
   ],
   "cell_type": "markdown",
   "metadata": {}
  },
  {
   "source": [
    "## Dataset Source: https://data.world/datadavis/nba-salaries/ "
   ],
   "cell_type": "markdown",
   "metadata": {}
  },
  {
   "source": [
    "## Dataset Format: \n",
    "This dataset is comprised of two corresponding CSV Files. One file contains a list of players who played in the NBA from 1985 to 2018 and their career stats (including efficiency rating, field goal %, and other such stats). The other file includes the salaires that each of these players had during each season they played in the NBA. "
   ],
   "cell_type": "markdown",
   "metadata": {}
  },
  {
   "source": [
    "## What we will try to Predict: \n",
    "\n",
    "Based on a given player’s career stats, we will try to predict the average salary they should be paid. Because salaries range so much in value, we will place them on a categorical scale, where the predicted value is a range of salaries in which the given player’s salary should fall. "
   ],
   "cell_type": "markdown",
   "metadata": {}
  },
  {
   "source": [
    "# Implementation/Technical merit:"
   ],
   "cell_type": "markdown",
   "metadata": {}
  },
  {
   "source": [
    "## Expected Challenges: \n",
    "With the size of the dataset (ours is about 5000 players large) and the span of time that the data covers, it will be difficult to decide which attributes will be the most telling and meaningful. Furthermore, with our classification being players’ predicted salary ranking, inflation and changing criteria of value in the NBA will propose a challenge in making a proper prediction."
   ],
   "cell_type": "markdown",
   "metadata": {}
  },
  {
   "source": [
    "## How we will use Feature Selection: \n",
    "Our planned selection techniques could include limiting players based on games played, certain impactful stats (i.e. PER, ppg, win-shares), removing more obscure players from notable NBA time periods (i.e. the 90’s) and adjusting for inflation the salaries of more impactful players from older eras. This can all be done in our mining of the dataset, which will include removing players with missing, notable attributes and those that fit the outlined criteria, as well as combining the two datasets using a full outer-join."
   ],
   "cell_type": "markdown",
   "metadata": {}
  },
  {
   "source": [
    "# Potential impact of the results"
   ],
   "cell_type": "markdown",
   "metadata": {}
  },
  {
   "source": [
    "## Why are these results useful?: \n",
    "These results are useful because the NBA is a big money business where players are the primary investments. For this reason, it is important that NBA executives have tools like this so they can avoid making bad investments and over/underpaying players. Additionally, this tool can seek to benefit players, as it tells them how much money they should be making, giving them leverage in contract negotiations. This tool would also be useful for NBA fans who are interested in analytics and learning more about player salaries. "
   ],
   "cell_type": "markdown",
   "metadata": {}
  },
  {
   "source": [
    "## Who are the stakeholders?:\n",
    "The stakeholders for this classifier are NBA General Managers who want to know how much money they should offer their players, NBA players who want to know how much they are worth, and NBA fans who want to know that their team is making good financial decisions. "
   ],
   "cell_type": "markdown",
   "metadata": {}
  }
 ]
}
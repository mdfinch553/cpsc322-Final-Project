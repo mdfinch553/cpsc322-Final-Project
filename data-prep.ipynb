{
 "metadata": {
  "language_info": {
   "codemirror_mode": {
    "name": "ipython",
    "version": 3
   },
   "file_extension": ".py",
   "mimetype": "text/x-python",
   "name": "python",
   "nbconvert_exporter": "python",
   "pygments_lexer": "ipython3",
   "version": "3.8.5-final"
  },
  "orig_nbformat": 2,
  "kernelspec": {
   "name": "python385jvsc74a57bd098b0a9b7b4eaaa670588a142fd0a9b87eaafe866f1db4228be72b4211d12040f",
   "display_name": "Python 3.8.5 64-bit ('base': conda)"
  }
 },
 "nbformat": 4,
 "nbformat_minor": 2,
 "cells": [
  {
   "source": [
    "# Final Project Data Preparation "
   ],
   "cell_type": "markdown",
   "metadata": {}
  },
  {
   "source": [
    "#import mypytable \n",
    "from mypytable import MyPyTable \n",
    "import dataPrepUtils as dputils"
   ],
   "cell_type": "code",
   "metadata": {},
   "execution_count": 11,
   "outputs": []
  },
  {
   "source": [
    "## For Salaries Dataset, Calculate Average Career Salary for each Player\n"
   ],
   "cell_type": "markdown",
   "metadata": {}
  },
  {
   "source": [
    "## Load Dataset from file"
   ],
   "cell_type": "markdown",
   "metadata": {}
  },
  {
   "cell_type": "code",
   "execution_count": 12,
   "metadata": {
    "tags": []
   },
   "outputs": [
    {
     "output_type": "execute_result",
     "data": {
      "text/plain": [
       "<mypytable.MyPyTable at 0x7f73dd01aa90>"
      ]
     },
     "metadata": {},
     "execution_count": 12
    }
   ],
   "source": [
    "#load data from file \n",
    "salaries = MyPyTable()\n",
    "salaries.load_from_file(\"salaries_1985to2018.csv\")"
   ]
  },
  {
   "source": [
    "## Calculate Average Yearly Salary for each Player in the Dataset"
   ],
   "cell_type": "markdown",
   "metadata": {}
  },
  {
   "cell_type": "code",
   "execution_count": 13,
   "metadata": {
    "tags": []
   },
   "outputs": [],
   "source": [
    "# convert data to numeric\n",
    "salaries.convert_to_numeric()\n",
    "\n",
    "#get averages \n",
    "avg_header, avg_salaries = dputils.calculate_avg_salaries(salaries.data)"
   ]
  },
  {
   "source": [
    "## Write avg Salaries to a new File "
   ],
   "cell_type": "markdown",
   "metadata": {}
  },
  {
   "cell_type": "code",
   "execution_count": 14,
   "metadata": {},
   "outputs": [],
   "source": [
    "#new pytable instance\n",
    "avg_salaries_table = MyPyTable(avg_header, avg_salaries)\n",
    "\n",
    "#write to new file \n",
    "avg_salaries_table.save_to_file(\"avg-player-salaries.txt\")\n"
   ]
  },
  {
   "source": [
    "## Load Player Data from File"
   ],
   "cell_type": "markdown",
   "metadata": {}
  },
  {
   "cell_type": "code",
   "execution_count": 15,
   "metadata": {},
   "outputs": [
    {
     "output_type": "execute_result",
     "data": {
      "text/plain": [
       "<mypytable.MyPyTable at 0x7f73dd7d9f70>"
      ]
     },
     "metadata": {},
     "execution_count": 15
    }
   ],
   "source": [
    "players = MyPyTable()\n",
    "players.load_from_file(\"players.csv\")"
   ]
  },
  {
   "source": [
    "## Perform Full Outer Join on Players and Average Salaries"
   ],
   "cell_type": "markdown",
   "metadata": {}
  },
  {
   "cell_type": "code",
   "execution_count": 16,
   "metadata": {},
   "outputs": [
    {
     "output_type": "execute_result",
     "data": {
      "text/plain": [
       "<mypytable.MyPyTable at 0x7f73dd7fa160>"
      ]
     },
     "metadata": {},
     "execution_count": 16
    }
   ],
   "source": [
    "players.perform_full_outer_join(avg_salaries_table, [\"_id\"])"
   ]
  },
  {
   "source": [
    "## Clean Data by Removing Instances with Missing Values \n"
   ],
   "cell_type": "markdown",
   "metadata": {}
  },
  {
   "cell_type": "code",
   "execution_count": 18,
   "metadata": {},
   "outputs": [],
   "source": [
    "players.remove_rows_with_missing_values()"
   ]
  },
  {
   "source": [
    "## Remove Players Drafted Before 1985 and Players who Played Less than 50 Career Games"
   ],
   "cell_type": "markdown",
   "metadata": {}
  },
  {
   "cell_type": "code",
   "execution_count": 19,
   "metadata": {},
   "outputs": [],
   "source": [
    "updated_players = dputils.remove_players(players.data, players.column_names)\n",
    "players.data = updated_players\n",
    "players.column_names.append(\"avg_salary\")"
   ]
  },
  {
   "source": [
    "## Write Updated Player List to File"
   ],
   "cell_type": "markdown",
   "metadata": {}
  },
  {
   "cell_type": "code",
   "execution_count": 20,
   "metadata": {},
   "outputs": [],
   "source": [
    "players.save_to_file(\"player-salaries-cleaned.txt\")"
   ]
  },
  {
   "cell_type": "code",
   "execution_count": null,
   "metadata": {},
   "outputs": [],
   "source": []
  }
 ]
}
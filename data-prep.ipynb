{
 "metadata": {
  "language_info": {
   "codemirror_mode": {
    "name": "ipython",
    "version": 3
   },
   "file_extension": ".py",
   "mimetype": "text/x-python",
   "name": "python",
   "nbconvert_exporter": "python",
   "pygments_lexer": "ipython3",
   "version": "3.8.5-final"
  },
  "orig_nbformat": 2,
  "kernelspec": {
   "name": "python385jvsc74a57bd098b0a9b7b4eaaa670588a142fd0a9b87eaafe866f1db4228be72b4211d12040f",
   "display_name": "Python 3.8.5 64-bit ('base': conda)"
  }
 },
 "nbformat": 4,
 "nbformat_minor": 2,
 "cells": [
  {
   "source": [
    "# Final Project Data Preparation "
   ],
   "cell_type": "markdown",
   "metadata": {}
  },
  {
   "source": [
    "#import mypytable \n",
    "from mypytable import MyPyTable \n",
    "import dataPrepUtils as dputils\n",
    "import importlib"
   ],
   "cell_type": "code",
   "metadata": {},
   "execution_count": 11,
   "outputs": []
  },
  {
   "source": [
    "## For Salaries Dataset, Calculate Average Career Salary for each Player\n"
   ],
   "cell_type": "markdown",
   "metadata": {}
  },
  {
   "source": [
    "## Load Dataset from file"
   ],
   "cell_type": "markdown",
   "metadata": {}
  },
  {
   "cell_type": "code",
   "execution_count": 12,
   "metadata": {
    "tags": []
   },
   "outputs": [
    {
     "output_type": "execute_result",
     "data": {
      "text/plain": [
       "<mypytable.MyPyTable at 0x7fb190c68f10>"
      ]
     },
     "metadata": {},
     "execution_count": 12
    }
   ],
   "source": [
    "#load data from file \n",
    "salaries = MyPyTable()\n",
    "salaries.load_from_file(\"salaries_1985to2018.csv\")"
   ]
  },
  {
   "source": [
    "## Calculate Average Yearly Salary for each Player in the Dataset"
   ],
   "cell_type": "markdown",
   "metadata": {}
  },
  {
   "cell_type": "code",
   "execution_count": 13,
   "metadata": {
    "tags": []
   },
   "outputs": [],
   "source": [
    "# convert data to numeric\n",
    "salaries.convert_to_numeric()\n",
    "\n",
    "#get averages \n",
    "avg_header, avg_salaries = dputils.calculate_avg_salaries(salaries.data)"
   ]
  },
  {
   "source": [
    "## Write avg Salaries to a new File "
   ],
   "cell_type": "markdown",
   "metadata": {}
  },
  {
   "cell_type": "code",
   "execution_count": 14,
   "metadata": {},
   "outputs": [],
   "source": [
    "#new pytable instance\n",
    "avg_salaries_table = MyPyTable(avg_header, avg_salaries)\n",
    "\n",
    "#write to new file \n",
    "avg_salaries_table.save_to_file(\"avg-player-salaries.txt\")\n"
   ]
  },
  {
   "source": [
    "## Load Player Data from File"
   ],
   "cell_type": "markdown",
   "metadata": {}
  },
  {
   "cell_type": "code",
   "execution_count": 15,
   "metadata": {},
   "outputs": [
    {
     "output_type": "execute_result",
     "data": {
      "text/plain": [
       "<mypytable.MyPyTable at 0x7fb194599430>"
      ]
     },
     "metadata": {},
     "execution_count": 15
    }
   ],
   "source": [
    "players = MyPyTable()\n",
    "players.load_from_file(\"players.csv\")"
   ]
  },
  {
   "source": [
    "## Perform Inner Join on Players and Average Salaries "
   ],
   "cell_type": "markdown",
   "metadata": {}
  },
  {
   "cell_type": "code",
   "execution_count": 16,
   "metadata": {
    "tags": []
   },
   "outputs": [],
   "source": [
    "avg_players = players.perform_inner_join(avg_salaries_table, [\"id\"])\n"
   ]
  },
  {
   "source": [
    "## Clean Data by Removing Instances with Missing Values \n"
   ],
   "cell_type": "markdown",
   "metadata": {}
  },
  {
   "cell_type": "code",
   "execution_count": 17,
   "metadata": {},
   "outputs": [],
   "source": [
    "avg_players.remove_rows_with_missing_values()"
   ]
  },
  {
   "source": [
    "## Remove Players Drafted Before 2000 and Players who Played Less than 82 Career Games"
   ],
   "cell_type": "markdown",
   "metadata": {}
  },
  {
   "cell_type": "code",
   "execution_count": 18,
   "metadata": {},
   "outputs": [],
   "source": [
    "updated_players = dputils.remove_players(avg_players.data, avg_players.column_names)\n",
    "avg_players.data = updated_players"
   ]
  },
  {
   "source": [
    "## Write Updated Player List to File"
   ],
   "cell_type": "markdown",
   "metadata": {}
  },
  {
   "cell_type": "code",
   "execution_count": 19,
   "metadata": {},
   "outputs": [],
   "source": [
    "avg_players.save_to_file(\"cleaned-data.txt\")"
   ]
  },
  {
   "source": [
    "## Find Discretization Ranges for Salaries"
   ],
   "cell_type": "markdown",
   "metadata": {}
  },
  {
   "source": [
    "importlib.reload(dputils)\n",
    "\n",
    "#get_column for salaries\n",
    "avg_players.convert_to_numeric()\n",
    "salaries = avg_players.get_column(\"avg_salary\")\n",
    "\n",
    "#get bins for salaries\n",
    "salary_cutoffs = dputils.compute_equal_width_cutoffs(salaries, 10)\n",
    "print(salary_cutoffs)"
   ],
   "cell_type": "code",
   "metadata": {},
   "execution_count": 20,
   "outputs": [
    {
     "output_type": "stream",
     "name": "stdout",
     "text": [
      "[65000.0, 1605176.1, 3145352.2, 4685528.3, 6225704.4, 7765880.5, 9306056.6, 10846232.7, 12386408.8, 13926584.9, 15466761.0]\n"
     ]
    }
   ]
  },
  {
   "source": [
    "## Discretized Ranges for NBA Salaries (US Dollars per Year)\n",
    "1. < 1605176.1\n",
    "2. 1605176.1 - 3145352.2\n",
    "3. 3145352.2 - 4685528.3\n",
    "4. 4685528.3 - 6225704.4\n",
    "5. 6225704.4 - 7765880.5\n",
    "6. 7765880.5 - 9306056.6\n",
    "7. 9306056.6 - 10846232.7\n",
    "8. 10846232.7 - 12386408.8\n",
    "9. 12386408.8 - 13926584.9 \n",
    "10. 13926584.9 <\n"
   ],
   "cell_type": "markdown",
   "metadata": {}
  }
 ]
}